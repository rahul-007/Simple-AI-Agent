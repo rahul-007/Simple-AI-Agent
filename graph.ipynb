{
 "cells": [
  {
   "cell_type": "code",
   "execution_count": 2,
   "id": "73b172a8",
   "metadata": {},
   "outputs": [
    {
     "data": {
      "text/plain": [
       "AIMessage(content='Machine learning (ML) is a subfield of artificial intelligence (AI) that focuses on enabling computers to learn from data without being explicitly programmed. In simpler terms, it\\'s about giving computers the ability to improve their performance on a specific task over time as they are exposed to more data.\\n\\nHere\\'s a breakdown of the key concepts:\\n\\n*   **Learning from Data:** ML algorithms learn patterns, relationships, and insights from data. This data can be in various forms, such as numbers, text, images, or audio.\\n*   **Algorithms:** Machine learning uses algorithms to analyze data and make predictions or decisions. These algorithms are designed to identify patterns and relationships within the data.\\n*   **Without Explicit Programming:** Instead of being explicitly programmed with rules, ML models learn the rules from the data itself.  This is different from traditional programming where you tell the computer exactly what to do in every situation.\\n*   **Improvement over Time:** The core idea is that the more data the algorithm is exposed to, the better it becomes at making accurate predictions or decisions. This improvement is often measured by metrics like accuracy, precision, or recall.\\n*   **Specific Task:** Machine learning models are designed for specific tasks, such as classifying emails as spam or not spam, predicting stock prices, or recommending products to users.\\n\\n**How Machine Learning Works (Simplified):**\\n\\n1.  **Data Collection:** Gather a dataset relevant to the task you want the machine to learn. This dataset should be representative of the problem you\\'re trying to solve.\\n\\n2.  **Data Preparation:** Clean and preprocess the data. This might involve handling missing values, removing errors, and transforming the data into a suitable format for the algorithm.\\n\\n3.  **Model Selection:** Choose an appropriate machine learning algorithm based on the type of data and the task you want to perform.  Different algorithms are suited for different types of problems (e.g., classification, regression, clustering).\\n\\n4.  **Training:**  Feed the prepared data into the selected algorithm. The algorithm uses this data to learn the underlying patterns and relationships.  This process involves adjusting the internal parameters of the model to minimize errors.\\n\\n5.  **Evaluation:** Evaluate the performance of the trained model using a separate dataset (the \"test set\") that the model hasn\\'t seen before. This helps you assess how well the model generalizes to new, unseen data.\\n\\n6.  **Tuning (Optional):**  If the model\\'s performance is not satisfactory, you can tune its parameters or try a different algorithm.  This involves iteratively adjusting the model and re-evaluating its performance.\\n\\n7.  **Deployment:** Once you\\'re satisfied with the model\\'s performance, you can deploy it to make predictions or decisions on new data.\\n\\n**Types of Machine Learning:**\\n\\n*   **Supervised Learning:** The algorithm learns from labeled data, where the correct output is provided for each input. Examples include classification (predicting a category) and regression (predicting a continuous value).\\n*   **Unsupervised Learning:** The algorithm learns from unlabeled data, where the correct output is not provided. Examples include clustering (grouping similar data points) and dimensionality reduction (reducing the number of variables).\\n*   **Reinforcement Learning:** The algorithm learns by interacting with an environment and receiving rewards or punishments for its actions. This is often used in robotics and game playing.\\n*   **Semi-Supervised Learning:** A combination of supervised and unsupervised learning where the algorithm learns from both labeled and unlabeled data.\\n\\n**Examples of Machine Learning in Action:**\\n\\n*   **Spam Filtering:** Identifying and filtering out spam emails.\\n*   **Image Recognition:** Identifying objects or people in images.\\n*   **Recommendation Systems:** Recommending products, movies, or music to users.\\n*   **Fraud Detection:** Identifying fraudulent transactions.\\n*   **Medical Diagnosis:** Assisting doctors in diagnosing diseases.\\n*   **Self-Driving Cars:** Enabling cars to drive themselves.\\n*   **Natural Language Processing (NLP):** Understanding and processing human language.\\n\\n**In summary, machine learning is a powerful tool that allows computers to learn from data and make predictions or decisions without being explicitly programmed. It\\'s a rapidly evolving field with applications in a wide range of industries.**', additional_kwargs={}, response_metadata={'prompt_feedback': {'block_reason': 0, 'safety_ratings': []}, 'finish_reason': 'STOP', 'safety_ratings': []}, id='run--edebd0cb-a743-4555-86a5-a89d834cbdda-0', usage_metadata={'input_tokens': 5, 'output_tokens': 893, 'total_tokens': 898, 'input_token_details': {'cache_read': 0}})"
      ]
     },
     "execution_count": 2,
     "metadata": {},
     "output_type": "execute_result"
    }
   ],
   "source": [
    "import os\n",
    "from dotenv import load_dotenv\n",
    "from langchain_google_genai import ChatGoogleGenerativeAI\n",
    "import google.generativeai as genai\n",
    "\n",
    "load_dotenv()\n",
    "\n",
    "# --- Gemini Model Initialization ---\n",
    "genai.configure(api_key=os.getenv(\"GOOGLE_API_KEY\"))\n",
    "llm = ChatGoogleGenerativeAI(model=\"gemini-2.0-flash\")\n",
    "llm.invoke(\"what is machine learning?\")"
   ]
  },
  {
   "cell_type": "code",
   "execution_count": 5,
   "id": "9e0bae15",
   "metadata": {},
   "outputs": [
    {
     "data": {
      "text/plain": [
       "\"Published: 2024-07-22\\nTitle: Attention Is All You Need But You Don't Need All Of It For Inference of Large Language Models\\nAuthors: Georgy Tyukin, Gbetondji J-S Dovonon, Jean Kaddour, Pasquale Minervini\\nSummary: The inference demand for LLMs has skyrocketed in recent months, and serving\\nmodels with low latencies remains challenging due to the quadratic input length\\ncomplexity of the attention layers. In this work, we investigate the effect of\\ndropping MLP and attention layers at inference time on the performance of\\nLlama-v2 models. We find that dropping dreeper attention layers only marginally\\ndecreases performance but leads to the best speedups alongside dropping entire\\nlayers. For example, removing 33\\\\% of attention layers in a 13B Llama2 model\\nresults in a 1.8\\\\% drop in average performance over the OpenLLM benchmark. We\\nalso observe that skipping layers except the latter layers reduces performances\\nfor more layers skipped, except for skipping the attention layers.\\n\\nPublished: 2021-0\""
      ]
     },
     "execution_count": 5,
     "metadata": {},
     "output_type": "execute_result"
    }
   ],
   "source": [
    "from langchain_community.tools import ArxivQueryRun, WikipediaQueryRun\n",
    "from langchain_community.utilities import ArxivAPIWrapper, WikipediaAPIWrapper\n",
    "\n",
    "arxiv_api_wrapper = ArxivAPIWrapper(top_k_results=2, doc_content_chars_max=1000)\n",
    "arxiv_tool = ArxivQueryRun(api_wrapper=arxiv_api_wrapper, description=\"query and summarize arxiv papers\")\n",
    "\n",
    "arxiv_tool.invoke(\"attention is all you need\")"
   ]
  },
  {
   "cell_type": "code",
   "execution_count": 6,
   "id": "809143ac",
   "metadata": {},
   "outputs": [
    {
     "data": {
      "text/plain": [
       "'Page: Sheldon Whitehouse\\nSummary: Sheldon Whitehouse (born October 20, 1955) is an American lawyer and politician serving since 2007 as the junior United States senator from Rhode Island. A member of the Democratic Party, he served from 1993 to 1998 as the United States Attorney for the District of Rhode Island and from 1999 to 2003 as the 71st attorney general of Rhode Island. In 2006, he was elected to the Senate, defeating Republican incumbent Lincoln Chafee. He was reelected in 2012, 2018, and 2024.\\nA political progressive and climate hawk, Whitehouse became chair of the United States Senate Committee on the Budget in 2023. He has given hundreds of Senate floor speeches about climate change and asserted that politically conservative \"dark money\" groups are conducting a campaign to take control of the U.S. government, specifically the Supreme Court of the United States, to prevent climate action, among other reasons.\\n\\n\\n\\nPage: The Fast Show\\nSummary: The Fast Show, also known as Brill'"
      ]
     },
     "execution_count": 6,
     "metadata": {},
     "output_type": "execute_result"
    }
   ],
   "source": [
    "wiki_wrapper = WikipediaAPIWrapper(top_k_results=2,doc_content_chars_max=1000)\n",
    "wiki = WikipediaQueryRun(api_wrapper=wiki_wrapper)\n",
    "\n",
    "wiki.invoke(\"tell me about Whitehouse\")"
   ]
  },
  {
   "cell_type": "code",
   "execution_count": 8,
   "id": "a260cbb6",
   "metadata": {},
   "outputs": [
    {
     "data": {
      "text/plain": [
       "\"The temperature in Bangalore today in the early morning is 23 ° C.. If you take into account factors such as wind, humidity and other weather conditions, the temperatures can feel like 25 ° C.. The chance of rain in Bangalore in the morning is 0%, and the wind will blow at 8 km/h. The Bangalore weather update by IMD has forecast gusty winds reaching speeds of 30-40m/h, cloudy skies, and possible light showers in Bengaluru today. Bengaluru Live Weather Today: Recent reports from weather stations near Bengaluru. Weather Station Temp. Weather Wind Gusts. Cloud. Visibility. Cloud / Visibility. Sampige Road wx. 3 km NW. 909 m alt. 18 minutes ago. 29.0 ° C-Bangalore Airport. 6 km ESE. 897 m alt. 1 hour ago. Today's and tonight's professional weather forecast for Bangalore (South). Precipitation radar, HD satellite images, and current weather warnings, hourly temperature, chance of rain, and sunshine hours. ... Premium users of the meteoblue weather app now benefit from a 14-day forecast and can easily swipe between their favourite locations. Read on. Weather Today Weather Hourly 14 Day Forecast Yesterday/Past Weather Climate (Averages) Currently: 73 °F. Passing clouds. (Weather station: Bangalore / Hindustan, India). See more current weather.\""
      ]
     },
     "execution_count": 8,
     "metadata": {},
     "output_type": "execute_result"
    }
   ],
   "source": [
    "from langchain_community.tools import DuckDuckGoSearchRun\n",
    "\n",
    "search = DuckDuckGoSearchRun()\n",
    "\n",
    "search.invoke(\"How is Bangalore weather now?\")"
   ]
  },
  {
   "cell_type": "code",
   "execution_count": 9,
   "id": "f76522e1",
   "metadata": {},
   "outputs": [],
   "source": [
    "tools = [arxiv_tool,wiki,search]"
   ]
  },
  {
   "cell_type": "code",
   "execution_count": 11,
   "id": "1611631f",
   "metadata": {},
   "outputs": [],
   "source": [
    "llm_tools = llm.bind_tools(tools=tools)"
   ]
  },
  {
   "cell_type": "code",
   "execution_count": 13,
   "id": "ed3f5cea",
   "metadata": {},
   "outputs": [
    {
     "data": {
      "text/plain": [
       "AIMessage(content='', additional_kwargs={'function_call': {'name': 'duckduckgo_search', 'arguments': '{\"query\": \"recent AI news\"}'}}, response_metadata={'prompt_feedback': {'block_reason': 0, 'safety_ratings': []}, 'finish_reason': 'STOP', 'safety_ratings': []}, id='run--0148c4d1-2773-4a8a-9965-84949b84596c-0', tool_calls=[{'name': 'duckduckgo_search', 'args': {'query': 'recent AI news'}, 'id': '972a2482-4405-435d-b605-90a82545a1be', 'type': 'tool_call'}], usage_metadata={'input_tokens': 110, 'output_tokens': 9, 'total_tokens': 119, 'input_token_details': {'cache_read': 0}})"
      ]
     },
     "execution_count": 13,
     "metadata": {},
     "output_type": "execute_result"
    }
   ],
   "source": [
    "llm_tools.invoke(\"what is recent AI news?\")"
   ]
  },
  {
   "cell_type": "code",
   "execution_count": 14,
   "id": "74188f01",
   "metadata": {},
   "outputs": [],
   "source": [
    "from typing_extensions import TypedDict\n",
    "from langchain_core.messages import AnyMessage\n",
    "from typing import Annotated\n",
    "from langgraph.graph.message import add_messages"
   ]
  },
  {
   "cell_type": "code",
   "execution_count": 15,
   "id": "f5c6e035",
   "metadata": {},
   "outputs": [],
   "source": [
    "class State(TypedDict):\n",
    "    messages: Annotated[list[AnyMessage], add_messages]"
   ]
  },
  {
   "cell_type": "code",
   "execution_count": 16,
   "id": "f3fbfeb9",
   "metadata": {},
   "outputs": [],
   "source": [
    "from langgraph.graph import StateGraph, START, END\n",
    "from langgraph.prebuilt import ToolNode, tools_condition\n"
   ]
  },
  {
   "cell_type": "code",
   "execution_count": 18,
   "id": "53eb4f3e",
   "metadata": {},
   "outputs": [],
   "source": [
    "def tool_calling_llm(state: State):\n",
    "    return {\"messages\": [llm_tools.invoke(state[\"messages\"])]}"
   ]
  },
  {
   "cell_type": "code",
   "execution_count": 23,
   "id": "3343ab96",
   "metadata": {},
   "outputs": [],
   "source": [
    "builder = StateGraph(State)\n",
    "\n",
    "builder.add_node(\"llm_node\",tool_calling_llm)\n",
    "builder.add_node(\"tools\", ToolNode(tools))\n",
    "\n",
    "builder.add_edge(START, \"llm_node\")\n",
    "builder.add_conditional_edges(\n",
    "    \"llm_node\",\n",
    "    tools_condition\n",
    ")\n",
    "builder.add_edge(\"tools\",\"llm_node\")\n",
    "\n",
    "graph = builder.compile()\n"
   ]
  },
  {
   "cell_type": "code",
   "execution_count": 36,
   "id": "98db601e",
   "metadata": {},
   "outputs": [
    {
     "data": {
      "image/png": "[encoded data removed]",
      "text/plain": [
       "<IPython.core.display.Image object>"
      ]
     },
     "metadata": {},
     "output_type": "display_data"
    }
   ],
   "source": [
    "from IPython.display import Image, display\n",
    "\n",
    "display(Image(graph.get_graph().draw_mermaid_png()))"
   ]
  },
  {
   "cell_type": "code",
   "execution_count": 35,
   "id": "72596f1e",
   "metadata": {},
   "outputs": [
    {
     "name": "stdout",
     "output_type": "stream",
     "text": [
      "================================\u001b[1m Human Message \u001b[0m=================================\n",
      "\n",
      "what is  AI and provide research paper also\n",
      "==================================\u001b[1m Ai Message \u001b[0m==================================\n",
      "Tool Calls:\n",
      "  wikipedia (487f0348-317f-49db-ae84-2ba653af5b40)\n",
      " Call ID: 487f0348-317f-49db-ae84-2ba653af5b40\n",
      "  Args:\n",
      "    query: Artificial Intelligence\n",
      "  arxiv (b5edbe81-d080-41c4-952a-61e4e36c6c92)\n",
      " Call ID: b5edbe81-d080-41c4-952a-61e4e36c6c92\n",
      "  Args:\n",
      "    query: Artificial Intelligence\n",
      "=================================\u001b[1m Tool Message \u001b[0m=================================\n",
      "Name: wikipedia\n",
      "\n",
      "Page: Artificial intelligence\n",
      "Summary: Artificial intelligence (AI) refers to the capability of computational systems to perform tasks typically associated with human intelligence, such as learning, reasoning, problem-solving, perception, and decision-making. It is a field of research in computer science that develops and studies methods and software that enable machines to perceive their environment and use learning and intelligence to take actions that maximize their chances of achieving defined goals. Such machines may be called AIs.\n",
      "High-profile applications of AI include advanced web search engines (e.g., Google Search); recommendation systems (used by YouTube, Amazon, and Netflix); virtual assistants (e.g., Google Assistant, Siri, and Alexa); autonomous vehicles (e.g., Waymo); generative and creative tools (e.g., ChatGPT and AI art); and superhuman play and analysis in strategy games (e.g., chess and Go). However, many AI applications are not perceived as AI: \"A lot of cutting ed\n",
      "=================================\u001b[1m Tool Message \u001b[0m=================================\n",
      "Name: arxiv\n",
      "\n",
      "Published: 2023-04-06\n",
      "Title: The Governance of Physical Artificial Intelligence\n",
      "Authors: Yingbo Li, Anamaria-Beatrice Spulber, Yucong Duan\n",
      "Summary: Physical artificial intelligence can prove to be one of the most important\n",
      "challenges of the artificial intelligence. The governance of physical\n",
      "artificial intelligence would define its responsible intelligent application in\n",
      "the society.\n",
      "\n",
      "Published: 2020-05-21\n",
      "Title: Does an artificial intelligence perform market manipulation with its own discretion? -- A genetic algorithm learns in an artificial market simulation\n",
      "Authors: Takanobu Mizuta\n",
      "Summary: Who should be charged with responsibility for an artificial intelligence\n",
      "performing market manipulation have been discussed. In this study, I\n",
      "constructed an artificial intelligence using a genetic algorithm that learns in\n",
      "an artificial market simulation, and investigated whether the artificial\n",
      "intelligence discovers market manipulation through learning with an artificial\n",
      "market simulation despite \n",
      "==================================\u001b[1m Ai Message \u001b[0m==================================\n",
      "\n",
      "Artificial intelligence (AI) is the capability of computational systems to perform tasks typically associated with human intelligence. These tasks include learning, reasoning, problem-solving, perception, and decision-making.\n",
      "\n",
      "Here are a couple of research papers on the topic:\n",
      "\n",
      "1.  **The Governance of Physical Artificial Intelligence** by Yingbo Li, Anamaria-Beatrice Spulber, and Yucong Duan (2023): This paper discusses the challenges of governing physical AI and ensuring its responsible application in society.\n",
      "2.  **Does an artificial intelligence perform market manipulation with its own discretion? -- A genetic algorithm learns in an artificial market simulation** by Takanobu Mizuta (2020): This study explores whether an AI, using a genetic algorithm, can learn to perform market manipulation in an artificial market simulation.\n"
     ]
    }
   ],
   "source": [
    "response  = graph.invoke({\"messages\": \"what is  AI and provide research paper also\"})\n",
    "for m in response[\"messages\"]:\n",
    "    m.pretty_print()"
   ]
  }
 ],
 "metadata": {
  "kernelspec": {
   "display_name": "Python 3",
   "language": "python",
   "name": "python3"
  },
  "language_info": {
   "codemirror_mode": {
    "name": "ipython",
    "version": 3
   },
   "file_extension": ".py",
   "mimetype": "text/x-python",
   "name": "python",
   "nbconvert_exporter": "python",
   "pygments_lexer": "ipython3",
   "version": "3.12.0"
  }
 },
 "nbformat": 4,
 "nbformat_minor": 5
}
